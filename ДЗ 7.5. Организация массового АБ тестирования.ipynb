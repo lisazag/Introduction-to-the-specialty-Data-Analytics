{
 "cells": [
  {
   "cell_type": "markdown",
   "source": [
    "<p style=\"align: center;\"><img align=center src=\"https://mailfit.com/wp-content/uploads/2019/11/lego-5.png\"  width=900></p>\n",
    "<h1 style=\"text-align: center;\"><b>«Домашняя работа» - Организация массового А/Б тестирования</b></h3>"
   ],
   "metadata": {
    "collapsed": false,
    "pycharm": {
     "name": "#%% md\n"
    }
   }
  },
  {
   "cell_type": "markdown",
   "source": [
    "## Импорт библиотек"
   ],
   "metadata": {
    "collapsed": false,
    "pycharm": {
     "name": "#%% md\n"
    }
   }
  },
  {
   "cell_type": "code",
   "execution_count": 1,
   "outputs": [],
   "source": [
    "import numpy as np\n",
    "import pandas as pd\n",
    "from scipy import stats\n",
    "import seaborn as sns\n",
    "import matplotlib.pyplot as plt"
   ],
   "metadata": {
    "collapsed": false,
    "pycharm": {
     "name": "#%%\n"
    }
   }
  },
  {
   "cell_type": "markdown",
   "source": [
    "Решите следующие задания сначала с помощью онлайн-калькулятора, а затем самостоятельно с помощью Python:\n",
    "* Вы работаете с рассылкой предложений перед “черной пятницей”, доля открываемых писем, исходя из заголовка письма в рассылках, обычно составляет 15% (конверсия). Вам хочется увеличить конверсию открываемых писем до 25% с помощью смайликов. Рассчитайте необходимый размер выборки. Сделай вывод. (В вашей базе рассылок около 40000 человек)\n",
    "* И вот вы теперь тестируете две версии рассылок. И заметили, что в одной версии конверсия 19%, а в другой 24%. Всего у вас 100 человек в рассылке. Является ли результат статистически значимым? Если нет, то сколько должно было человек, чтобы результат был уже статистически значим?\n",
    "* Вас повысили до старшего аналитика. Ваша первая задача на новой позиции, определить какой поставщик товаров (A или B) позволяет вам получить наибольшую оценку качества. У вас две группы оценок для A и B. Среднее группы A = 45, дисперсия группы A = 4, средние группы B = 40, дисперсия группы B = 3. Является ли группа А лучшей, если опираться на статистическую значимость? А если бы обе дисперсии были равны 1 ?\n",
    "* Вы планируете эксперимент по способам расстановки продуктов на полке. Вы предполагаете, что некоторые пары продуктов надо класть вместе. В качестве метрики у вас средний чек покупок. Вы проводите эксперимент в 1000 магазинах. Средний чек в группе A = 870 рублей, дисперсия этого чека - 80 рублей. Какое минимальное значение метрики надо получить для группы B, чтобы после всей 1000 экспериментов с каждым магазином мы могли с уверенностью сказать, что тестируемая гипотеза в группе B верна?"
   ],
   "metadata": {
    "collapsed": false,
    "pycharm": {
     "name": "#%% md\n"
    }
   }
  },
  {
   "cell_type": "markdown",
   "source": [
    "В решении укажите результат, предложенный онлайн-калькулятором, а также полное решение задач в Python. Помимо кода, пропишите к каждой задаче, решенной в Python,  комментарий, поясняющий полученные вами результаты.\n",
    "\n",
    "Сравните результаты онлайн-калькулятора и самостоятельного решения и пропишите вывод по каждой задаче."
   ],
   "metadata": {
    "collapsed": false,
    "pycharm": {
     "name": "#%% md\n"
    }
   }
  },
  {
   "cell_type": "markdown",
   "source": [
    "#### Задача 1. Чёрная пятница\n",
    "\n",
    "_Вы работаете с рассылкой предложений перед “черной пятницей”, доля открываемых писем, исходя из заголовка письма в рассылках, обычно составляет 15% (конверсия). Вам хочется увеличить конверсию открываемых писем до 25% с помощью смайликов. Рассчитайте необходимый размер выборки. Сделай вывод. (В вашей базе рассылок около 40000 человек)_"
   ],
   "metadata": {
    "collapsed": false,
    "pycharm": {
     "name": "#%% md\n"
    }
   }
  },
  {
   "cell_type": "code",
   "execution_count": 8,
   "outputs": [],
   "source": [
    "def find_n(p0, pa, alpha, beta):\n",
    "    za = stats.norm().ppf(1 - alpha)\n",
    "    zb = stats.norm().ppf(1 - beta)\n",
    "    sn = (np.sqrt(p0 * (1 - p0)) * za + np.sqrt(pa * (1 - pa)) * zb)/(pa - p0)\n",
    "    return sn**2"
   ],
   "metadata": {
    "collapsed": false,
    "pycharm": {
     "name": "#%%\n"
    }
   }
  },
  {
   "cell_type": "markdown",
   "source": [
    "Наш расчёт:"
   ],
   "metadata": {
    "collapsed": false,
    "pycharm": {
     "name": "#%% md\n"
    }
   }
  },
  {
   "cell_type": "code",
   "execution_count": 9,
   "outputs": [
    {
     "data": {
      "text/plain": "90.58526310162634"
     },
     "execution_count": 9,
     "metadata": {},
     "output_type": "execute_result"
    }
   ],
   "source": [
    "BCR = 15 / 100\n",
    "MDE = 25 / 100\n",
    "\n",
    "find_n(BCR, MDE, alpha=0.05, beta=0.2)"
   ],
   "metadata": {
    "collapsed": false,
    "pycharm": {
     "name": "#%%\n"
    }
   }
  },
  {
   "cell_type": "markdown",
   "source": [
    "Расчёт онлайн-калькулятора: 214 человек ([https://www.evanmiller.org/ab-testing/sample-size.html#!15;80;5;10;0](https://www.evanmiller.org/ab-testing/sample-size.html#!15;80;5;10;0))\n"
   ],
   "metadata": {
    "collapsed": false,
    "pycharm": {
     "name": "#%% md\n"
    }
   }
  },
  {
   "cell_type": "markdown",
   "source": [
    "Как видим, по ручному расчёту нам необходима выборка в 91 человек. Онлайн-калькулятор предлагает взять выборку в 214 человек. Чтобы погрешность была минимальной и мы точно могли убедиться в успехе рассылки, возьмём результат онлайн-калькулятора. То есть, чтобы добиться статистической значимой разницы в 10%, нам нужно включить в рассылки 214 имейлов."
   ],
   "metadata": {
    "collapsed": false,
    "pycharm": {
     "name": "#%% md\n"
    }
   }
  },
  {
   "cell_type": "markdown",
   "source": [
    "#### Задача 2. Тест рассылки\n",
    "\n",
    "_И вот вы теперь тестируете две версии рассылок. И заметили, что в одной версии конверсия 19%, а в другой 24%. Всего у вас 100 человек в рассылке. Является ли результат статистически значимым? Если нет, то сколько должно было человек, чтобы результат был уже статистически значим?_"
   ],
   "metadata": {
    "collapsed": false,
    "pycharm": {
     "name": "#%% md\n"
    }
   }
  },
  {
   "cell_type": "markdown",
   "source": [
    "Наш расчёт:"
   ],
   "metadata": {
    "collapsed": false,
    "pycharm": {
     "name": "#%% md\n"
    }
   }
  },
  {
   "cell_type": "code",
   "execution_count": 10,
   "outputs": [
    {
     "name": "stdout",
     "output_type": "stream",
     "text": [
      "Разница в 4%: 526.1277526601822\n",
      "Разница в 9%: 110.66396030895177\n"
     ]
    }
   ],
   "source": [
    "BCR = 15 / 100\n",
    "MDE_A = 19 / 100\n",
    "MDE_B = 24 / 100\n",
    "print('Разница в 4%:', find_n(BCR, MDE_A, alpha=0.05, beta=0.2))\n",
    "print('Разница в 9%:', find_n(BCR, MDE_B, alpha=0.05, beta=0.2))"
   ],
   "metadata": {
    "collapsed": false,
    "pycharm": {
     "name": "#%%\n"
    }
   }
  },
  {
   "cell_type": "markdown",
   "source": [
    "Расчёт онлайн-калькулятора:\n",
    "* Разница в 4%: 1289 имейлов ([https://www.evanmiller.org/ab-testing/sample-size.html#!15;80;5;4;0](https://www.evanmiller.org/ab-testing/sample-size.html#!15;80;5;4;0))\n",
    "* Разница в 9%: 263 имейла ([https://www.evanmiller.org/ab-testing/sample-size.html#!15;80;5;9;0](https://www.evanmiller.org/ab-testing/sample-size.html#!15;80;5;9;0))\n"
   ],
   "metadata": {
    "collapsed": false,
    "pycharm": {
     "name": "#%% md\n"
    }
   }
  },
  {
   "cell_type": "markdown",
   "source": [
    "И по нашему ручному расчёту, и по расчёту онлайн калькулятора, для обеих групп выборка должна быть больше, чем 50 человек, чтобы результат считался статистически значимым. Для разницы в 4% нам необходимо взять выборку из 1289 имейлов, а для разницы в 9% — 263."
   ],
   "metadata": {
    "collapsed": false,
    "pycharm": {
     "name": "#%% md\n"
    }
   }
  },
  {
   "cell_type": "markdown",
   "source": [
    "#### Задача 3. Старший аналитик\n",
    "\n",
    "_Вас повысили до старшего аналитика. Ваша первая задача на новой позиции, определить какой поставщик товаров (A или B) позволяет вам получить наибольшую оценку качества. У вас две группы оценок для A и B. Среднее группы A = 45, дисперсия группы A = 4, средние группы B = 40, дисперсия группы B = 3. Является ли группа А лучшей, если опираться на статистическую значимость? А если бы обе дисперсии были равны 1?_"
   ],
   "metadata": {
    "collapsed": false,
    "pycharm": {
     "name": "#%% md\n"
    }
   }
  },
  {
   "cell_type": "markdown",
   "source": [
    "Так как дисперсии нам известны, то наилучшим критерием в нашем случае будет t-критерий Стьюдента. Объёмы выборки нам неизвестны, потому предположим, что каждая из них составляет 50 оценок."
   ],
   "metadata": {
    "collapsed": false,
    "pycharm": {
     "name": "#%% md\n"
    }
   }
  },
  {
   "cell_type": "code",
   "execution_count": 15,
   "outputs": [
    {
     "name": "stdout",
     "output_type": "stream",
     "text": [
      "t-критерий Стьюдента: 18.30127018922193\n",
      "cтепени свободы: 98\n",
      "p-value: 1.0\n",
      "Да, гипотеза верна, группа A является лучшей\n"
     ]
    }
   ],
   "source": [
    "# H0 – группа A является лучшей\n",
    "# H1 – группы A и B не отличаются\n",
    "\n",
    "A = B = 50\n",
    "N = A + B\n",
    "\n",
    "mean_A, mean_B = 45, 40\n",
    "var_A, var_B = 4, 3\n",
    "\n",
    "# Подсчёт стандартного отклонения для выборок А и В\n",
    "std_dev_A = np.sqrt(var_A)\n",
    "std_dev_B = np.sqrt(var_B)\n",
    "\n",
    "t_value = (mean_A - mean_B) / (np.sqrt(std_dev_A / A + std_dev_B / B)) # t-критерий Стьюдента\n",
    "df = N - 2 # степени свободы\n",
    "p_value = stats.t.cdf(t_value, df)\n",
    "\n",
    "print('t-критерий Стьюдента:', t_value)\n",
    "print('cтепени свободы:', df)\n",
    "print('p-value:', p_value)\n",
    "\n",
    "alpha = 0.05\n",
    "if p_value > alpha:\n",
    "    print('Да, гипотеза верна, группа A является лучшей')\n",
    "else:\n",
    "    print('Нет, гипотеза не верна, группы статистически не отличаются')"
   ],
   "metadata": {
    "collapsed": false,
    "pycharm": {
     "name": "#%%\n"
    }
   }
  },
  {
   "cell_type": "markdown",
   "source": [
    "Онлайн-калькулятор выдаёт тот же результат: [https://www.evanmiller.org/ab-testing/t-test.html#!45/4/50;40/3/50@95](https://www.evanmiller.org/ab-testing/t-test.html#!45/4/50;40/3/50@95)\n",
    "\n",
    "Посчитаем результат для дисперсий 1."
   ],
   "metadata": {
    "collapsed": false,
    "pycharm": {
     "name": "#%% md\n"
    }
   }
  },
  {
   "cell_type": "code",
   "execution_count": 18,
   "outputs": [
    {
     "name": "stdout",
     "output_type": "stream",
     "text": [
      "t-критерий Стьюдента: 25.0\n",
      "cтепени свободы: 99\n",
      "p-value: 1.0\n",
      "Да, гипотеза верна, группа A является лучшей\n"
     ]
    }
   ],
   "source": [
    "var_A, var_B = 1, 1\n",
    "\n",
    "# Подсчёт стандартного отклонения для выборок А и В\n",
    "std_dev_A = np.sqrt(var_A)\n",
    "std_dev_B = np.sqrt(var_B)\n",
    "\n",
    "t_value = (mean_A - mean_B) / (np.sqrt(std_dev_A / A + std_dev_B / B)) # t-критерий Стьюдента\n",
    "df = N - 1\n",
    "p_value = stats.t.cdf(t_value, df)\n",
    "\n",
    "print('t-критерий Стьюдента:', t_value)\n",
    "print('cтепени свободы:', df)\n",
    "print('p-value:', p_value)\n",
    "\n",
    "alpha = 0.05\n",
    "if p_value > alpha:\n",
    "    print('Да, гипотеза верна, группа A является лучшей')\n",
    "else:\n",
    "    print('Нет, гипотеза не верна, группы статистически не отличаются')"
   ],
   "metadata": {
    "collapsed": false,
    "pycharm": {
     "name": "#%%\n"
    }
   }
  },
  {
   "cell_type": "markdown",
   "source": [
    "Результат не поменялся как в нашем ручном расчёте, так и в онлайн-калькуляторе ([https://www.evanmiller.org/ab-testing/t-test.html#!45/1/50;40/1/50@95](https://www.evanmiller.org/ab-testing/t-test.html#!45/1/50;40/1/50@95))"
   ],
   "metadata": {
    "collapsed": false,
    "pycharm": {
     "name": "#%% md\n"
    }
   }
  },
  {
   "cell_type": "markdown",
   "source": [
    "#### Задача 4. Эксперимент с расстановкой продуктов\n",
    "\n",
    "_Вы планируете эксперимент по способам расстановки продуктов на полке. Вы предполагаете, что некоторые пары продуктов надо класть вместе. В качестве метрики у вас средний чек покупок. Вы проводите эксперимент в 1000 магазинах. Средний чек в группе A = 870 рублей, дисперсия этого чека - 80 рублей. Какое минимальное значение метрики надо получить для группы B, чтобы после всей 1000 экспериментов с каждым магазином мы могли с уверенностью сказать, что тестируемая гипотеза в группе B верна?_"
   ],
   "metadata": {
    "collapsed": false,
    "pycharm": {
     "name": "#%% md\n"
    }
   }
  },
  {
   "cell_type": "markdown",
   "source": [
    "Так как мы берём средний чек, то распределение скорее всего будет нормальным. Воспользуемся t-критерием."
   ],
   "metadata": {
    "collapsed": false,
    "pycharm": {
     "name": "#%% md\n"
    }
   }
  },
  {
   "cell_type": "code",
   "execution_count": 20,
   "outputs": [
    {
     "name": "stdout",
     "output_type": "stream",
     "text": [
      "t-критерий Стьюдента: 1.646380345427535\n",
      "cтепени свободы: 999\n",
      "Минимальное значение метрики группы B: 874.1650494291887\n"
     ]
    }
   ],
   "source": [
    "N = 1000\n",
    "df = N - 1\n",
    "\n",
    "mean_A = 870\n",
    "var_A = 80\n",
    "\n",
    "alpha = 0.05\n",
    "t_value = stats.t.ppf(1 - alpha, df)\n",
    "min_B = mean_A + t_value * (var_A / np.sqrt(N))\n",
    "\n",
    "print('t-критерий Стьюдента:', t_value)\n",
    "print('cтепени свободы:', df)\n",
    "print('Минимальное значение метрики группы B:', min_B)"
   ],
   "metadata": {
    "collapsed": false,
    "pycharm": {
     "name": "#%%\n"
    }
   }
  },
  {
   "cell_type": "markdown",
   "source": [
    "По нашим расчётам минимальное число получается 875 чеков, онлайн-калькулятор же показывает минимальное число 880: [https://www.evanmiller.org/ab-testing/t-test.html#!870/80/500;880/80/500@95](https://www.evanmiller.org/ab-testing/t-test.html#!870/80/500;880/80/500@95)"
   ],
   "metadata": {
    "collapsed": false,
    "pycharm": {
     "name": "#%% md\n"
    }
   }
  }
 ],
 "metadata": {
  "kernelspec": {
   "display_name": "Python 3",
   "language": "python",
   "name": "python3"
  },
  "language_info": {
   "codemirror_mode": {
    "name": "ipython",
    "version": 2
   },
   "file_extension": ".py",
   "mimetype": "text/x-python",
   "name": "python",
   "nbconvert_exporter": "python",
   "pygments_lexer": "ipython2",
   "version": "2.7.6"
  }
 },
 "nbformat": 4,
 "nbformat_minor": 0
}