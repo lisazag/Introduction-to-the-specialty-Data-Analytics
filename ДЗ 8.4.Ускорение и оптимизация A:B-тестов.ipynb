{
 "cells": [
  {
   "cell_type": "markdown",
   "metadata": {
    "pycharm": {
     "name": "#%% md\n"
    }
   },
   "source": [
    "<p style=\"align: center;\"><img align=center src=\"https://mailfit.com/wp-content/uploads/2019/11/lego-5.png\"  width=900></p>\n",
    "<h1 style=\"text-align: center;\"><b>«Домашняя работа» - Ускорение тестирования</b></h3>\n"
   ]
  },
  {
   "cell_type": "markdown",
   "metadata": {
    "pycharm": {
     "name": "#%% md\n"
    }
   },
   "source": [
    "## Импорт библиотек"
   ]
  },
  {
   "cell_type": "code",
   "execution_count": 1,
   "metadata": {
    "pycharm": {
     "name": "#%%\n"
    }
   },
   "outputs": [],
   "source": [
    "import numpy as np\n",
    "import pandas as pd\n",
    "import warnings\n",
    "\n",
    "import matplotlib.pyplot as plt\n",
    "import seaborn as sns\n",
    "import scipy\n",
    "\n",
    "from scipy import stats\n",
    "\n",
    "warnings.filterwarnings('ignore')\n",
    "sns.set_context(\"paper\")"
   ]
  },
  {
   "cell_type": "markdown",
   "metadata": {
    "pycharm": {
     "name": "#%% md\n"
    }
   },
   "source": [
    "## Импорт данных"
   ]
  },
  {
   "cell_type": "code",
   "execution_count": 17,
   "metadata": {
    "pycharm": {
     "name": "#%%\n"
    }
   },
   "outputs": [
    {
     "name": "stdout",
     "output_type": "stream",
     "text": [
      "Размеры датасета (50000, 2)\n"
     ]
    },
    {
     "data": {
      "text/plain": "          group    metrica\nstrata                    \n11      history  42.631346\n6       history  14.844453\n4       history   2.362768\n37      history  79.494017\n18      history -22.627788\n34      history  28.679378",
      "text/html": "<div>\n<style scoped>\n    .dataframe tbody tr th:only-of-type {\n        vertical-align: middle;\n    }\n\n    .dataframe tbody tr th {\n        vertical-align: top;\n    }\n\n    .dataframe thead th {\n        text-align: right;\n    }\n</style>\n<table border=\"1\" class=\"dataframe\">\n  <thead>\n    <tr style=\"text-align: right;\">\n      <th></th>\n      <th>group</th>\n      <th>metrica</th>\n    </tr>\n    <tr>\n      <th>strata</th>\n      <th></th>\n      <th></th>\n    </tr>\n  </thead>\n  <tbody>\n    <tr>\n      <th>11</th>\n      <td>history</td>\n      <td>42.631346</td>\n    </tr>\n    <tr>\n      <th>6</th>\n      <td>history</td>\n      <td>14.844453</td>\n    </tr>\n    <tr>\n      <th>4</th>\n      <td>history</td>\n      <td>2.362768</td>\n    </tr>\n    <tr>\n      <th>37</th>\n      <td>history</td>\n      <td>79.494017</td>\n    </tr>\n    <tr>\n      <th>18</th>\n      <td>history</td>\n      <td>-22.627788</td>\n    </tr>\n    <tr>\n      <th>34</th>\n      <td>history</td>\n      <td>28.679378</td>\n    </tr>\n  </tbody>\n</table>\n</div>"
     },
     "execution_count": 17,
     "metadata": {},
     "output_type": "execute_result"
    }
   ],
   "source": [
    "data_path = \"https://raw.githubusercontent.com/a-milenkin/Datasetes_for_Piplines/main/SkillBox/ab_speedup.csv\"\n",
    "data = pd.read_csv(data_path, index_col=0)\n",
    "print(\"Размеры датасета\", data.shape)\n",
    "data.head(6)"
   ]
  },
  {
   "cell_type": "markdown",
   "metadata": {
    "pycharm": {
     "name": "#%% md\n"
    }
   },
   "source": [
    "<div class=\"alert alert-info\">\n",
    "<b>Про Датасет</b>\n",
    "    \n",
    "Датасет представляет собой результаты некоторого А/B-Теста. \n",
    "\n",
    "* `strata` - Некоторая информация по страту (группа), к которой относится пользователь. \n",
    "* `group` - Группа эксперимента - тестовая, контрольная или прошлая история. \n",
    "* `metrica` - Целивая метрика\n",
    "    \n",
    "</div>"
   ]
  },
  {
   "cell_type": "markdown",
   "metadata": {
    "pycharm": {
     "name": "#%% md\n"
    }
   },
   "source": [
    "<div class=\"alert alert-info\">\n",
    "\n",
    "<b>Задание:</b>    \n",
    "    \n",
    "Найти различие между группами, увеличив чувствительность тестов тремя способами поочередно:\n",
    "* Бутстрап\n",
    "* Стратификация\n",
    "* CUPED\n",
    "    \n",
    "Вспомогательная статья Валерия Бабушкина про стратификацию и CUPED:\n",
    "\n",
    "* habr.com/ru/company/yandex/blog/497804/"
   ]
  },
  {
   "cell_type": "markdown",
   "source": [
    "Начнём с просмотра групп и построим график."
   ],
   "metadata": {
    "collapsed": false,
    "pycharm": {
     "name": "#%% md\n"
    }
   }
  },
  {
   "cell_type": "code",
   "execution_count": 3,
   "outputs": [
    {
     "data": {
      "text/plain": "array(['history', 'B', 'A'], dtype=object)"
     },
     "execution_count": 3,
     "metadata": {},
     "output_type": "execute_result"
    }
   ],
   "source": [
    "data.group.unique()"
   ],
   "metadata": {
    "collapsed": false,
    "pycharm": {
     "name": "#%%\n"
    }
   }
  },
  {
   "cell_type": "code",
   "execution_count": 18,
   "outputs": [],
   "source": [
    "a = data[data[\"group\"] == \"A\"][\"metrica\"]\n",
    "b = data[data[\"group\"] == \"B\"][\"metrica\"]\n",
    "history = data[data[\"group\"] == \"history\"][\"metrica\"]"
   ],
   "metadata": {
    "collapsed": false,
    "pycharm": {
     "name": "#%%\n"
    }
   }
  },
  {
   "cell_type": "code",
   "execution_count": 11,
   "outputs": [
    {
     "data": {
      "text/plain": "<Figure size 432x288 with 1 Axes>",
      "image/png": "[encoded data removed]"
     },
     "metadata": {
      "needs_background": "light"
     },
     "output_type": "display_data"
    }
   ],
   "source": [
    "plt.hist(a, alpha=0.7, label=\"A\")\n",
    "plt.hist(b, alpha=0.7, label=\"B\")\n",
    "plt.hist(history, alpha=0.7, label=\"History\")\n",
    "plt.legend()\n",
    "plt.show()"
   ],
   "metadata": {
    "collapsed": false,
    "pycharm": {
     "name": "#%%\n"
    }
   }
  },
  {
   "cell_type": "markdown",
   "source": [
    "Судя по графику, группы различны, причём значения группы А больше значений группы B и обе группы больше исторических значений. Убедимся в этом, посчитав статистику."
   ],
   "metadata": {
    "collapsed": false,
    "pycharm": {
     "name": "#%% md\n"
    }
   }
  },
  {
   "cell_type": "markdown",
   "source": [
    "#### Бутстрап"
   ],
   "metadata": {
    "collapsed": false,
    "pycharm": {
     "name": "#%% md\n"
    }
   }
  },
  {
   "cell_type": "code",
   "execution_count": 6,
   "outputs": [
    {
     "name": "stdout",
     "output_type": "stream",
     "text": [
      "Сравнение групп A и B: \n",
      "statistic = 78.03572053435778, p-value = 0.0\n",
      "Сравнение групп A и history: \n",
      "statistic = 2.2912449506487814e-97, p-value = 22.474711985435924\n",
      "Сравнение групп B и history: \n",
      "statistic = 4.023926008560423e-177, p-value = -32.37879619458618\n"
     ]
    }
   ],
   "source": [
    "n_iterations = 1000\n",
    "\n",
    "bootstrap_results_a = []\n",
    "bootstrap_results_b = []\n",
    "bootstrap_results_history = []\n",
    "\n",
    "for _ in range(n_iterations):\n",
    "      bootstrap_sample_a = np.random.choice(a, size=len(a), replace=True)\n",
    "      bootstrap_results_a.append(np.mean(bootstrap_sample_a))\n",
    "\n",
    "      bootstrap_sample_b = np.random.choice(b, size=len(b), replace=True)\n",
    "      bootstrap_results_b.append(np.mean(bootstrap_sample_b))\n",
    "\n",
    "      bootstrap_sample_history = np.random.choice(history, size=len(history), replace=True)\n",
    "      bootstrap_results_history.append(np.mean(bootstrap_sample_history))\n",
    "\n",
    "st, p_value = stats.ttest_ind(bootstrap_results_a, bootstrap_results_b, equal_var=False)\n",
    "st_a_history, p_value_a_history = stats.ttest_ind(bootstrap_results_a, bootstrap_results_history, equal_var=False)\n",
    "st_b_history, p_value_b_history = stats.ttest_ind(bootstrap_results_b, bootstrap_results_history, equal_var=False)\n",
    "\n",
    "print('Сравнение групп A и B: \\nstatistic = {}, p-value = {}'.format(st, p_value))\n",
    "print('Сравнение групп A и history: \\nstatistic = {}, p-value = {}'.format(p_value_a_history, st_a_history))\n",
    "print('Сравнение групп B и history: \\nstatistic = {}, p-value = {}'.format(p_value_b_history, st_b_history))"
   ],
   "metadata": {
    "collapsed": false,
    "pycharm": {
     "name": "#%%\n"
    }
   }
  },
  {
   "cell_type": "markdown",
   "source": [
    "Результат бутстрапа также говорит, что все группы между собой статистически значимо различны (p-value равно 0 и близко к нулю)."
   ],
   "metadata": {
    "collapsed": false,
    "pycharm": {
     "name": "#%% md\n"
    }
   }
  },
  {
   "cell_type": "markdown",
   "source": [
    "#### Стратификация"
   ],
   "metadata": {
    "collapsed": false,
    "pycharm": {
     "name": "#%% md\n"
    }
   }
  },
  {
   "cell_type": "code",
   "execution_count": 21,
   "outputs": [
    {
     "data": {
      "text/plain": "50"
     },
     "execution_count": 21,
     "metadata": {},
     "output_type": "execute_result"
    }
   ],
   "source": [
    "data = data.reset_index(drop=False)\n",
    "strata_unique = data.strata.nunique()\n",
    "strata_unique"
   ],
   "metadata": {
    "collapsed": false,
    "pycharm": {
     "name": "#%%\n"
    }
   }
  },
  {
   "cell_type": "code",
   "execution_count": 22,
   "outputs": [
    {
     "data": {
      "text/plain": "           strata    metrica\n  group                     \n0 history    11.0  42.631346\n1 history     6.0  14.844453\n2 history     4.0   2.362768\n3 history    37.0  79.494017\n4 history    18.0 -22.627788\n5 history    34.0  28.679378",
      "text/html": "<div>\n<style scoped>\n    .dataframe tbody tr th:only-of-type {\n        vertical-align: middle;\n    }\n\n    .dataframe tbody tr th {\n        vertical-align: top;\n    }\n\n    .dataframe thead th {\n        text-align: right;\n    }\n</style>\n<table border=\"1\" class=\"dataframe\">\n  <thead>\n    <tr style=\"text-align: right;\">\n      <th></th>\n      <th></th>\n      <th>strata</th>\n      <th>metrica</th>\n    </tr>\n    <tr>\n      <th></th>\n      <th>group</th>\n      <th></th>\n      <th></th>\n    </tr>\n  </thead>\n  <tbody>\n    <tr>\n      <th>0</th>\n      <th>history</th>\n      <td>11.0</td>\n      <td>42.631346</td>\n    </tr>\n    <tr>\n      <th>1</th>\n      <th>history</th>\n      <td>6.0</td>\n      <td>14.844453</td>\n    </tr>\n    <tr>\n      <th>2</th>\n      <th>history</th>\n      <td>4.0</td>\n      <td>2.362768</td>\n    </tr>\n    <tr>\n      <th>3</th>\n      <th>history</th>\n      <td>37.0</td>\n      <td>79.494017</td>\n    </tr>\n    <tr>\n      <th>4</th>\n      <th>history</th>\n      <td>18.0</td>\n      <td>-22.627788</td>\n    </tr>\n    <tr>\n      <th>5</th>\n      <th>history</th>\n      <td>34.0</td>\n      <td>28.679378</td>\n    </tr>\n  </tbody>\n</table>\n</div>"
     },
     "execution_count": 22,
     "metadata": {},
     "output_type": "execute_result"
    }
   ],
   "source": [
    "data_strata = data.groupby([data.index, 'group']).mean()\n",
    "data_strata.head(6)"
   ],
   "metadata": {
    "collapsed": false,
    "pycharm": {
     "name": "#%%\n"
    }
   }
  },
  {
   "cell_type": "markdown",
   "source": [
    "Для начала посчитаем тест Манна-Уитни:"
   ],
   "metadata": {
    "collapsed": false,
    "pycharm": {
     "name": "#%% md\n"
    }
   }
  },
  {
   "cell_type": "code",
   "execution_count": 24,
   "outputs": [
    {
     "data": {
      "text/plain": "MannwhitneyuResult(statistic=232466032.0, pvalue=0.012365138100454288)"
     },
     "execution_count": 24,
     "metadata": {},
     "output_type": "execute_result"
    }
   ],
   "source": [
    "a = []\n",
    "b = []\n",
    "history = []\n",
    "for _ in range(strata_unique):\n",
    "      a = data[(data['group'] == 'A')]['metrica']\n",
    "      b = data[(data['group'] == 'B')]['metrica']\n",
    "      history = data[(data['group'] == 'history')]['metrica']\n",
    "\n",
    "stats.mannwhitneyu(a, b, alternative='greater')"
   ],
   "metadata": {
    "collapsed": false,
    "pycharm": {
     "name": "#%%\n"
    }
   }
  },
  {
   "cell_type": "markdown",
   "source": [
    "Отлично, группа A статистически больше группы B. Проведём стратификацию:"
   ],
   "metadata": {
    "collapsed": false,
    "pycharm": {
     "name": "#%% md\n"
    }
   }
  },
  {
   "cell_type": "code",
   "execution_count": 28,
   "outputs": [
    {
     "data": {
      "text/plain": "Ttest_indResult(statistic=78.63098238350548, pvalue=0.0)"
     },
     "execution_count": 28,
     "metadata": {},
     "output_type": "execute_result"
    }
   ],
   "source": [
    "a_test = []\n",
    "for _ in range(1000):\n",
    "      a_test.append(data.sample(frac=1, replace=True).groupby([data.index, 'group']).mean())\n",
    "\n",
    "result = pd.concat(a_test).reset_index()\n",
    "stats.ttest_ind(result[result.group == 'A'].metrica, result[result.group == 'B'].metrica, alternative='greater')"
   ],
   "metadata": {
    "collapsed": false,
    "pycharm": {
     "name": "#%%\n"
    }
   }
  },
  {
   "cell_type": "markdown",
   "source": [
    "Успех. T-тест подтвердил наши выводы. Группы А и В различны статистически значимо, и в группе А значения больше."
   ],
   "metadata": {
    "collapsed": false,
    "pycharm": {
     "name": "#%% md\n"
    }
   }
  },
  {
   "cell_type": "markdown",
   "source": [
    "#### CUPED"
   ],
   "metadata": {
    "collapsed": false,
    "pycharm": {
     "name": "#%% md\n"
    }
   }
  },
  {
   "cell_type": "code",
   "execution_count": 29,
   "outputs": [
    {
     "data": {
      "text/plain": "   level_0    group  strata    metrica\n0        0  history    11.0  42.631346\n1        1  history     6.0  14.844453\n2        2  history     4.0   2.362768\n3        3  history    37.0  79.494017\n4        4  history    18.0 -22.627788\n5        5  history    34.0  28.679378",
      "text/html": "<div>\n<style scoped>\n    .dataframe tbody tr th:only-of-type {\n        vertical-align: middle;\n    }\n\n    .dataframe tbody tr th {\n        vertical-align: top;\n    }\n\n    .dataframe thead th {\n        text-align: right;\n    }\n</style>\n<table border=\"1\" class=\"dataframe\">\n  <thead>\n    <tr style=\"text-align: right;\">\n      <th></th>\n      <th>level_0</th>\n      <th>group</th>\n      <th>strata</th>\n      <th>metrica</th>\n    </tr>\n  </thead>\n  <tbody>\n    <tr>\n      <th>0</th>\n      <td>0</td>\n      <td>history</td>\n      <td>11.0</td>\n      <td>42.631346</td>\n    </tr>\n    <tr>\n      <th>1</th>\n      <td>1</td>\n      <td>history</td>\n      <td>6.0</td>\n      <td>14.844453</td>\n    </tr>\n    <tr>\n      <th>2</th>\n      <td>2</td>\n      <td>history</td>\n      <td>4.0</td>\n      <td>2.362768</td>\n    </tr>\n    <tr>\n      <th>3</th>\n      <td>3</td>\n      <td>history</td>\n      <td>37.0</td>\n      <td>79.494017</td>\n    </tr>\n    <tr>\n      <th>4</th>\n      <td>4</td>\n      <td>history</td>\n      <td>18.0</td>\n      <td>-22.627788</td>\n    </tr>\n    <tr>\n      <th>5</th>\n      <td>5</td>\n      <td>history</td>\n      <td>34.0</td>\n      <td>28.679378</td>\n    </tr>\n  </tbody>\n</table>\n</div>"
     },
     "execution_count": 29,
     "metadata": {},
     "output_type": "execute_result"
    }
   ],
   "source": [
    "data_strata = data_strata.reset_index()\n",
    "data_strata.head(6)"
   ],
   "metadata": {
    "collapsed": false,
    "pycharm": {
     "name": "#%%\n"
    }
   }
  },
  {
   "cell_type": "code",
   "execution_count": 31,
   "outputs": [
    {
     "data": {
      "text/plain": "   strata          a          b    history  theta_a  theta_b  cuped_a  cuped_b\n0       0  11.315632  11.179934  11.042309        0        0        0        0\n1       1  11.986065  12.542707  11.870768        0        0        0        0\n2       2  12.864792  13.179972  12.799640        0        0        0        0\n3       3  14.174155  14.038061  14.257758        0        0        0        0\n4       4  15.712583  15.744811  14.942943        0        0        0        0",
      "text/html": "<div>\n<style scoped>\n    .dataframe tbody tr th:only-of-type {\n        vertical-align: middle;\n    }\n\n    .dataframe tbody tr th {\n        vertical-align: top;\n    }\n\n    .dataframe thead th {\n        text-align: right;\n    }\n</style>\n<table border=\"1\" class=\"dataframe\">\n  <thead>\n    <tr style=\"text-align: right;\">\n      <th></th>\n      <th>strata</th>\n      <th>a</th>\n      <th>b</th>\n      <th>history</th>\n      <th>theta_a</th>\n      <th>theta_b</th>\n      <th>cuped_a</th>\n      <th>cuped_b</th>\n    </tr>\n  </thead>\n  <tbody>\n    <tr>\n      <th>0</th>\n      <td>0</td>\n      <td>11.315632</td>\n      <td>11.179934</td>\n      <td>11.042309</td>\n      <td>0</td>\n      <td>0</td>\n      <td>0</td>\n      <td>0</td>\n    </tr>\n    <tr>\n      <th>1</th>\n      <td>1</td>\n      <td>11.986065</td>\n      <td>12.542707</td>\n      <td>11.870768</td>\n      <td>0</td>\n      <td>0</td>\n      <td>0</td>\n      <td>0</td>\n    </tr>\n    <tr>\n      <th>2</th>\n      <td>2</td>\n      <td>12.864792</td>\n      <td>13.179972</td>\n      <td>12.799640</td>\n      <td>0</td>\n      <td>0</td>\n      <td>0</td>\n      <td>0</td>\n    </tr>\n    <tr>\n      <th>3</th>\n      <td>3</td>\n      <td>14.174155</td>\n      <td>14.038061</td>\n      <td>14.257758</td>\n      <td>0</td>\n      <td>0</td>\n      <td>0</td>\n      <td>0</td>\n    </tr>\n    <tr>\n      <th>4</th>\n      <td>4</td>\n      <td>15.712583</td>\n      <td>15.744811</td>\n      <td>14.942943</td>\n      <td>0</td>\n      <td>0</td>\n      <td>0</td>\n      <td>0</td>\n    </tr>\n  </tbody>\n</table>\n</div>"
     },
     "execution_count": 31,
     "metadata": {},
     "output_type": "execute_result"
    }
   ],
   "source": [
    "data_cuped = pd.DataFrame()\n",
    "data_cuped['strata'] = [_ for _ in range(50)]\n",
    "\n",
    "data_cuped['a'] = data_strata[data_strata['group'] == 'A'].groupby('strata')['metrica'].mean().values[:50]\n",
    "data_cuped['b'] = data_strata[data_strata['group'] == 'B'].groupby('strata')['metrica'].mean().values[:50]\n",
    "data_cuped['history'] = data_strata[data_strata['group'] == 'history'].groupby('strata')['metrica'].mean().values[:50]\n",
    "\n",
    "data_cuped['theta_a'] = 0\n",
    "data_cuped['theta_b'] = 0\n",
    "data_cuped['cuped_a'] = 0\n",
    "data_cuped['cuped_b'] = 0\n",
    "\n",
    "data_cuped.head(5)"
   ],
   "metadata": {
    "collapsed": false,
    "pycharm": {
     "name": "#%%\n"
    }
   }
  },
  {
   "cell_type": "code",
   "execution_count": 35,
   "outputs": [
    {
     "data": {
      "text/plain": "   strata          a          b    history   theta_a   theta_b    cuped_a  \\\n0       0  11.315632  11.179934  11.042309  0.000163  0.000041  11.319692   \n1       1  11.986065  12.542707  11.870768  0.000029  0.000984  11.986763   \n2       2  12.864792  13.179972  12.799640  0.000009  0.000315  12.865007   \n3       3  14.174155  14.038061  14.257758  0.000015  0.000105  14.174485   \n4       4  15.712583  15.744811  14.942943  0.001291  0.001401  15.739741   \n5       5  15.921063  15.557678  15.486043  0.000412  0.000011  15.929516   \n\n     cuped_b  \n0  11.180964  \n1  12.566430  \n2  13.187279  \n3  14.040346  \n4  15.774290  \n5  15.557907  ",
      "text/html": "<div>\n<style scoped>\n    .dataframe tbody tr th:only-of-type {\n        vertical-align: middle;\n    }\n\n    .dataframe tbody tr th {\n        vertical-align: top;\n    }\n\n    .dataframe thead th {\n        text-align: right;\n    }\n</style>\n<table border=\"1\" class=\"dataframe\">\n  <thead>\n    <tr style=\"text-align: right;\">\n      <th></th>\n      <th>strata</th>\n      <th>a</th>\n      <th>b</th>\n      <th>history</th>\n      <th>theta_a</th>\n      <th>theta_b</th>\n      <th>cuped_a</th>\n      <th>cuped_b</th>\n    </tr>\n  </thead>\n  <tbody>\n    <tr>\n      <th>0</th>\n      <td>0</td>\n      <td>11.315632</td>\n      <td>11.179934</td>\n      <td>11.042309</td>\n      <td>0.000163</td>\n      <td>0.000041</td>\n      <td>11.319692</td>\n      <td>11.180964</td>\n    </tr>\n    <tr>\n      <th>1</th>\n      <td>1</td>\n      <td>11.986065</td>\n      <td>12.542707</td>\n      <td>11.870768</td>\n      <td>0.000029</td>\n      <td>0.000984</td>\n      <td>11.986763</td>\n      <td>12.566430</td>\n    </tr>\n    <tr>\n      <th>2</th>\n      <td>2</td>\n      <td>12.864792</td>\n      <td>13.179972</td>\n      <td>12.799640</td>\n      <td>0.000009</td>\n      <td>0.000315</td>\n      <td>12.865007</td>\n      <td>13.187279</td>\n    </tr>\n    <tr>\n      <th>3</th>\n      <td>3</td>\n      <td>14.174155</td>\n      <td>14.038061</td>\n      <td>14.257758</td>\n      <td>0.000015</td>\n      <td>0.000105</td>\n      <td>14.174485</td>\n      <td>14.040346</td>\n    </tr>\n    <tr>\n      <th>4</th>\n      <td>4</td>\n      <td>15.712583</td>\n      <td>15.744811</td>\n      <td>14.942943</td>\n      <td>0.001291</td>\n      <td>0.001401</td>\n      <td>15.739741</td>\n      <td>15.774290</td>\n    </tr>\n    <tr>\n      <th>5</th>\n      <td>5</td>\n      <td>15.921063</td>\n      <td>15.557678</td>\n      <td>15.486043</td>\n      <td>0.000412</td>\n      <td>0.000011</td>\n      <td>15.929516</td>\n      <td>15.557907</td>\n    </tr>\n  </tbody>\n</table>\n</div>"
     },
     "execution_count": 35,
     "metadata": {},
     "output_type": "execute_result"
    }
   ],
   "source": [
    "var = data_cuped['history'].var()\n",
    "mean_before = data_cuped['history'].mean()\n",
    "\n",
    "for i in range(strata_unique):\n",
    "      data_cuped.theta_a.iloc[i] = np.cov([data_cuped['a'].iloc[i], data_cuped['history'].iloc[i]]) / var\n",
    "      data_cuped.theta_b.iloc[i] = np.cov([data_cuped['b'].iloc[i], data_cuped['history'].iloc[i]]) / var\n",
    "      data_cuped.cuped_a.iloc[i] = data_cuped['a'].iloc[i] - (data_cuped['history'].iloc[i] - mean_before) \\\n",
    "                                   * data_cuped['theta_a'].iloc[i]\n",
    "      data_cuped.cuped_b.iloc[i] = data_cuped['b'].iloc[i] - (data_cuped['history'].iloc[i] - mean_before) \\\n",
    "                                   * data_cuped['theta_b'].iloc[i]\n",
    "\n",
    "data_cuped.head(6)"
   ],
   "metadata": {
    "collapsed": false,
    "pycharm": {
     "name": "#%%\n"
    }
   }
  },
  {
   "cell_type": "code",
   "execution_count": 38,
   "outputs": [
    {
     "name": "stdout",
     "output_type": "stream",
     "text": [
      "Среднее значение группы A: 14.829540293553626\n",
      "Среднее значение группы A по CUPED: 14.521252788307905\n",
      "\n",
      "Среднее значение группы B: 14.389042441338292\n",
      "Среднее значение группы B по CUPED: 13.881228778961283\n"
     ]
    }
   ],
   "source": [
    "print('Среднее значение группы A:', data_cuped.a.std())\n",
    "print('Среднее значение группы A по CUPED:', data_cuped.cuped_a.std())\n",
    "print('\\nСреднее значение группы B:', data_cuped.b.std())\n",
    "print('Среднее значение группы B по CUPED:', data_cuped.cuped_b.std())"
   ],
   "metadata": {
    "collapsed": false,
    "pycharm": {
     "name": "#%%\n"
    }
   }
  },
  {
   "cell_type": "markdown",
   "source": [
    "Судя по ответам, CUPED чуть снизил средние значения, но это не повлияло на результат — значения группы А по-прежнему больше значений группы В."
   ],
   "metadata": {
    "collapsed": false,
    "pycharm": {
     "name": "#%% md\n"
    }
   }
  },
  {
   "cell_type": "markdown",
   "source": [
    "Как итог, все 3 методики выдали нам одинаковый результат, однако они могут отличаться по скорости обработки данных и по качеству показанного результата."
   ],
   "metadata": {
    "collapsed": false,
    "pycharm": {
     "name": "#%% md\n"
    }
   }
  }
 ],
 "metadata": {
  "kernelspec": {
   "display_name": "Python 3",
   "language": "python",
   "name": "python3"
  },
  "language_info": {
   "codemirror_mode": {
    "name": "ipython",
    "version": 3
   },
   "file_extension": ".py",
   "mimetype": "text/x-python",
   "name": "python",
   "nbconvert_exporter": "python",
   "pygments_lexer": "ipython3",
   "version": "3.8.5"
  },
  "toc": {
   "base_numbering": 1,
   "nav_menu": {},
   "number_sections": true,
   "sideBar": true,
   "skip_h1_title": false,
   "title_cell": "Table of Contents",
   "title_sidebar": "Contents",
   "toc_cell": false,
   "toc_position": {},
   "toc_section_display": true,
   "toc_window_display": false
  }
 },
 "nbformat": 4,
 "nbformat_minor": 4
}