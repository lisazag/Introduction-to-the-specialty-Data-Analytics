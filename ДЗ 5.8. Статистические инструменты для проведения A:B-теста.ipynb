{
 "cells": [
  {
   "cell_type": "markdown",
   "metadata": {
    "pycharm": {
     "name": "#%% md\n"
    }
   },
   "source": [
    "<p style=\"align: center;\"><img align=center src=\"https://mailfit.com/wp-content/uploads/2019/11/lego-5.png\"  width=900></p>\n",
    "<h1 style=\"text-align: center;\"><b>«Домашняя работа»</b></h3>\n"
   ]
  },
  {
   "cell_type": "markdown",
   "metadata": {
    "pycharm": {
     "name": "#%% md\n"
    }
   },
   "source": [
    "## Импорт Библиотек"
   ]
  },
  {
   "cell_type": "code",
   "execution_count": 97,
   "metadata": {
    "pycharm": {
     "name": "#%%\n"
    }
   },
   "outputs": [],
   "source": [
    "import numpy as np\n",
    "import pandas as pd\n",
    "import scipy\n",
    "import matplotlib.pyplot as plt\n",
    "import seaborn as sns\n",
    "\n",
    "from scipy.stats import chi2_contingency\n",
    "from scipy import stats\n",
    "\n",
    "sns.set_theme()"
   ]
  },
  {
   "cell_type": "markdown",
   "metadata": {
    "pycharm": {
     "name": "#%% md\n"
    }
   },
   "source": [
    "## Импорт данных"
   ]
  },
  {
   "cell_type": "code",
   "execution_count": 2,
   "metadata": {
    "pycharm": {
     "name": "#%%\n"
    }
   },
   "outputs": [
    {
     "name": "stdout",
     "output_type": "stream",
     "text": [
      "Размеры датасета (6000, 9)\n"
     ]
    },
    {
     "data": {
      "text/plain": "    was_married  children        salary  sex   age     profession  \\\nid                                                                  \n0             1       4.0  4.420530e+07    1  82.0       Engineer   \n1             1       2.0  1.737490e+08    1  32.0         Doctor   \n2             1       6.0  2.489055e+08    1  14.0  Entertainment   \n3             0       1.0  1.268718e+08    0  10.0         Lawyer   \n4             1       9.0  8.596042e+07    1  99.0         Artist   \n5             1       3.0  2.474979e+06    0  21.0      Homemaker   \n\n       home_cost  drive_info  happyness  \nid                                       \n0   1.003674e+07         NaN   0.727499  \n1   1.014051e+07         0.0   0.383234  \n2   1.043318e+07         NaN   0.432142  \n3   1.004299e+07         NaN   0.377987  \n4   1.021908e+07         NaN   0.657579  \n5   1.001654e+07         1.0   0.326801  ",
      "text/html": "<div>\n<style scoped>\n    .dataframe tbody tr th:only-of-type {\n        vertical-align: middle;\n    }\n\n    .dataframe tbody tr th {\n        vertical-align: top;\n    }\n\n    .dataframe thead th {\n        text-align: right;\n    }\n</style>\n<table border=\"1\" class=\"dataframe\">\n  <thead>\n    <tr style=\"text-align: right;\">\n      <th></th>\n      <th>was_married</th>\n      <th>children</th>\n      <th>salary</th>\n      <th>sex</th>\n      <th>age</th>\n      <th>profession</th>\n      <th>home_cost</th>\n      <th>drive_info</th>\n      <th>happyness</th>\n    </tr>\n    <tr>\n      <th>id</th>\n      <th></th>\n      <th></th>\n      <th></th>\n      <th></th>\n      <th></th>\n      <th></th>\n      <th></th>\n      <th></th>\n      <th></th>\n    </tr>\n  </thead>\n  <tbody>\n    <tr>\n      <th>0</th>\n      <td>1</td>\n      <td>4.0</td>\n      <td>4.420530e+07</td>\n      <td>1</td>\n      <td>82.0</td>\n      <td>Engineer</td>\n      <td>1.003674e+07</td>\n      <td>NaN</td>\n      <td>0.727499</td>\n    </tr>\n    <tr>\n      <th>1</th>\n      <td>1</td>\n      <td>2.0</td>\n      <td>1.737490e+08</td>\n      <td>1</td>\n      <td>32.0</td>\n      <td>Doctor</td>\n      <td>1.014051e+07</td>\n      <td>0.0</td>\n      <td>0.383234</td>\n    </tr>\n    <tr>\n      <th>2</th>\n      <td>1</td>\n      <td>6.0</td>\n      <td>2.489055e+08</td>\n      <td>1</td>\n      <td>14.0</td>\n      <td>Entertainment</td>\n      <td>1.043318e+07</td>\n      <td>NaN</td>\n      <td>0.432142</td>\n    </tr>\n    <tr>\n      <th>3</th>\n      <td>0</td>\n      <td>1.0</td>\n      <td>1.268718e+08</td>\n      <td>0</td>\n      <td>10.0</td>\n      <td>Lawyer</td>\n      <td>1.004299e+07</td>\n      <td>NaN</td>\n      <td>0.377987</td>\n    </tr>\n    <tr>\n      <th>4</th>\n      <td>1</td>\n      <td>9.0</td>\n      <td>8.596042e+07</td>\n      <td>1</td>\n      <td>99.0</td>\n      <td>Artist</td>\n      <td>1.021908e+07</td>\n      <td>NaN</td>\n      <td>0.657579</td>\n    </tr>\n    <tr>\n      <th>5</th>\n      <td>1</td>\n      <td>3.0</td>\n      <td>2.474979e+06</td>\n      <td>0</td>\n      <td>21.0</td>\n      <td>Homemaker</td>\n      <td>1.001654e+07</td>\n      <td>1.0</td>\n      <td>0.326801</td>\n    </tr>\n  </tbody>\n</table>\n</div>"
     },
     "execution_count": 2,
     "metadata": {},
     "output_type": "execute_result"
    }
   ],
   "source": [
    "data_path = \"https://raw.githubusercontent.com/a-milenkin/mipt_data_science_2021/main/data/people_data_clustering.csv\"\n",
    "data = pd.read_csv(data_path, index_col=0)\n",
    "print(\"Размеры датасета\", data.shape)\n",
    "data.head()"
   ]
  },
  {
   "cell_type": "markdown",
   "metadata": {
    "pycharm": {
     "name": "#%% md\n"
    }
   },
   "source": [
    "<div class=\"alert alert-info\">\n",
    "<b>Про Датасет</b>\n",
    "    \n",
    "Датасет представляет собой информацию по жителям некоторого города.\n",
    "\n",
    "* `was_married` - Был ли когда-либо женат/замужем\n",
    "* `children` - Количество детей\n",
    "* `salary` - Уровень зарплаты\n",
    "* `sex` - Пол (0 - женщина, 1 - мужчина)\n",
    "* `age` - Возраст\n",
    "* `home_cost` - Сумарная стоимость жилья/недвижимости\n",
    "* `Professon` - Профессия\n",
    "* `drive_info` - Есть ли водительские права\n",
    "* `happyness` - уровень счастья по результатам опроса\n",
    "    \n",
    "</div>"
   ]
  },
  {
   "cell_type": "markdown",
   "metadata": {
    "pycharm": {
     "name": "#%% md\n"
    }
   },
   "source": [
    "<div class=\"alert alert-info\">\n",
    "<b>Задание</b>\n",
    "\n",
    "Изучить датасет, выполнить задания и проверить некоторые гипотезы, предложенные ниже, используя только визуализацию."
   ]
  },
  {
   "cell_type": "markdown",
   "metadata": {
    "pycharm": {
     "name": "#%% md\n"
    }
   },
   "source": [
    "# Чистка датасета\n",
    "* Есть ли дубли в данных? Если есть - удалите их (drop_duplicates). \n",
    "* Найти и удалить/отфильтровать выбросы по признаку `home_cost`. Таких точек около 5"
   ]
  },
  {
   "cell_type": "code",
   "execution_count": 3,
   "metadata": {
    "pycharm": {
     "name": "#%%\n"
    }
   },
   "outputs": [
    {
     "data": {
      "text/plain": "0"
     },
     "execution_count": 3,
     "metadata": {},
     "output_type": "execute_result"
    }
   ],
   "source": [
    "data.duplicated().sum()"
   ]
  },
  {
   "cell_type": "markdown",
   "source": [
    "В датасете нет дубликатов."
   ],
   "metadata": {
    "collapsed": false,
    "pycharm": {
     "name": "#%% md\n"
    }
   }
  },
  {
   "cell_type": "code",
   "execution_count": 4,
   "outputs": [
    {
     "data": {
      "text/plain": "was_married       0\nchildren          0\nsalary            0\nsex               0\nage               0\nprofession        0\nhome_cost         0\ndrive_info     2770\nhappyness         0\ndtype: int64"
     },
     "execution_count": 4,
     "metadata": {},
     "output_type": "execute_result"
    }
   ],
   "source": [
    "data.isnull().sum()"
   ],
   "metadata": {
    "collapsed": false,
    "pycharm": {
     "name": "#%%\n"
    }
   }
  },
  {
   "cell_type": "code",
   "execution_count": 5,
   "outputs": [
    {
     "data": {
      "text/plain": "was_married    0\nchildren       0\nsalary         0\nsex            0\nage            0\nprofession     0\nhome_cost      0\ndrive_info     0\nhappyness      0\ndtype: int64"
     },
     "execution_count": 5,
     "metadata": {},
     "output_type": "execute_result"
    }
   ],
   "source": [
    "data.dropna(inplace=True)\n",
    "data.isnull().sum()"
   ],
   "metadata": {
    "collapsed": false,
    "pycharm": {
     "name": "#%%\n"
    }
   }
  },
  {
   "cell_type": "code",
   "execution_count": 6,
   "outputs": [
    {
     "data": {
      "text/plain": "<Figure size 720x720 with 1 Axes>",
      "image/png": "[encoded data removed]"
     },
     "metadata": {
      "needs_background": "light"
     },
     "output_type": "display_data"
    }
   ],
   "source": [
    "plt.figure(figsize=(10, 10))\n",
    "plt.boxplot(data['home_cost']);"
   ],
   "metadata": {
    "collapsed": false,
    "pycharm": {
     "name": "#%%\n"
    }
   }
  },
  {
   "cell_type": "code",
   "execution_count": 7,
   "outputs": [
    {
     "data": {
      "text/plain": "8"
     },
     "execution_count": 7,
     "metadata": {},
     "output_type": "execute_result"
    }
   ],
   "source": [
    "q25 = data.home_cost.quantile(0.25)\n",
    "q75 = data.home_cost.quantile(0.75)\n",
    "iqr = q75 - q25\n",
    "boundaries = (q25 - 1.5 * iqr, q75 + 1.5 * iqr)\n",
    "is_outlier = (data.home_cost < boundaries[0]) | (data.home_cost > boundaries[1])\n",
    "is_outlier.sum()"
   ],
   "metadata": {
    "collapsed": false,
    "pycharm": {
     "name": "#%%\n"
    }
   }
  },
  {
   "cell_type": "markdown",
   "source": [
    "8 выбросов по признаку home_cost"
   ],
   "metadata": {
    "collapsed": false,
    "pycharm": {
     "name": "#%% md\n"
    }
   }
  },
  {
   "cell_type": "code",
   "execution_count": 8,
   "outputs": [],
   "source": [
    "data.loc[data['home_cost'] < boundaries[0]] = np.nan\n",
    "data.loc[data['home_cost'] > boundaries[1]] = np.nan\n",
    "data.dropna(inplace=True)"
   ],
   "metadata": {
    "collapsed": false,
    "pycharm": {
     "name": "#%%\n"
    }
   }
  },
  {
   "cell_type": "code",
   "execution_count": 9,
   "outputs": [
    {
     "data": {
      "text/plain": "<Figure size 720x720 with 1 Axes>",
      "image/png": "[encoded data removed]"
     },
     "metadata": {
      "needs_background": "light"
     },
     "output_type": "display_data"
    }
   ],
   "source": [
    "plt.figure(figsize=(10, 10))\n",
    "plt.boxplot(data['home_cost']);"
   ],
   "metadata": {
    "collapsed": false,
    "pycharm": {
     "name": "#%%\n"
    }
   }
  },
  {
   "cell_type": "markdown",
   "source": [
    "Выбросы почищены."
   ],
   "metadata": {
    "collapsed": false,
    "pycharm": {
     "name": "#%% md\n"
    }
   }
  },
  {
   "cell_type": "markdown",
   "metadata": {
    "pycharm": {
     "name": "#%% md\n"
    }
   },
   "source": [
    "# Проверка гипотез"
   ]
  },
  {
   "cell_type": "markdown",
   "metadata": {
    "pycharm": {
     "name": "#%% md\n"
    }
   },
   "source": [
    "# Изучение датасета \n",
    "* Какие признаки численные?\n",
    "* Какие признаки категориальные?\n",
    "* Какие признаки имеют нормальное распределение?\n",
    "* Какие признаки бессмысленные?"
   ]
  },
  {
   "cell_type": "markdown",
   "metadata": {
    "pycharm": {
     "name": "#%% md\n"
    }
   },
   "source": [
    "<div class=\"alert alert-info\">\n",
    "    \n",
    "Перед вами те же гипотезы, которые были в прошлом домашнем задании. Вы уже научились проверять эти утверждения визуально. Теперь же, помимо визуальной состовляющей вам еще нужно применить подходящий статистический критерий, чтобы окончательно доказать или опровергнуть гипотезы на снове этих данных. В качестве уровня значимости принять 5%"
   ]
  },
  {
   "cell_type": "markdown",
   "metadata": {
    "pycharm": {
     "name": "#%% md\n"
    }
   },
   "source": [
    "* Правда ли женщины в среднем имеют более высокую зарплату, чем мужчины?"
   ]
  },
  {
   "cell_type": "code",
   "execution_count": 15,
   "metadata": {
    "pycharm": {
     "name": "#%%\n"
    }
   },
   "outputs": [
    {
     "name": "stdout",
     "output_type": "stream",
     "text": [
      "Нет, гипотеза не верна, у мужчин средняя зарплата выше, чем у женщин\n"
     ]
    }
   ],
   "source": [
    "# H0 – зарплата выше у женщин\n",
    "# H1 – зарплата выше у мужчин\n",
    "# Распределение не нормальное, переменные независимые, берём U-критерий Манна-Уитни\n",
    "\n",
    "t_value, p_value = stats.mannwhitneyu(data[data['sex'] == 0]['salary'],\n",
    "                                      data[data['sex'] == 1]['salary'], alternative='less')\n",
    "\n",
    "alpha = 0.05\n",
    "if p_value > alpha:\n",
    "    print('Да, гипотеза верна, у женщин средняя зарплата выше, чем у мужчин')\n",
    "else:\n",
    "    print('Нет, гипотеза не верна, у мужчин средняя зарплата выше, чем у женщин')"
   ]
  },
  {
   "cell_type": "code",
   "execution_count": 89,
   "metadata": {
    "pycharm": {
     "name": "#%%\n"
    }
   },
   "outputs": [
    {
     "data": {
      "text/plain": "<Figure size 432x432 with 1 Axes>",
      "image/png": "[encoded data removed]"
     },
     "metadata": {},
     "output_type": "display_data"
    }
   ],
   "source": [
    "plt.figure(figsize=(6, 6))\n",
    "plt.hist(data[data['sex'] == 1]['salary'], bins=15, alpha=0.5, label=['Male'])\n",
    "plt.hist(data[data['sex'] == 0]['salary'], bins=10, alpha=0.8, label=['Female'])\n",
    "\n",
    "plt.xlabel('Salary')\n",
    "plt.ylabel('Count')\n",
    "plt.legend()\n",
    "plt.grid(True)\n",
    "\n",
    "plt.show()"
   ]
  },
  {
   "cell_type": "markdown",
   "source": [
    "* Правда ли, что инженеры (Engineer) зарабатывают в среднем больше, чем люди из сферы развлечений (Entertainment)?"
   ],
   "metadata": {
    "collapsed": false,
    "pycharm": {
     "name": "#%% md\n"
    }
   }
  },
  {
   "cell_type": "code",
   "execution_count": 29,
   "outputs": [
    {
     "name": "stdout",
     "output_type": "stream",
     "text": [
      "Нет, гипотеза не верна, у работников сферы развлечений средняя зарплата выше, чем у инженеров\n"
     ]
    }
   ],
   "source": [
    "# H0 – зарплата выше у инженеров\n",
    "# H1 – зарплата выше у работников сферы развлечений\n",
    "# Распределение нормальное, берём t-тест Стьюдента\n",
    "\n",
    "t_value, p_value = stats.ttest_ind(data[data['profession'] == 'Engineer']['salary'],\n",
    "                                   data[data['profession'] == 'Entertainment']['salary'], alternative='less')\n",
    "\n",
    "alpha = 0.05\n",
    "if p_value > alpha:\n",
    "    print('Да, гипотеза верна, у инженеров средняя зарплата выше, чем у работников сферы развлечений')\n",
    "else:\n",
    "    print('Нет, гипотеза не верна, у работников сферы развлечений средняя зарплата выше, чем у инженеров')"
   ],
   "metadata": {
    "collapsed": false,
    "pycharm": {
     "name": "#%%\n"
    }
   }
  },
  {
   "cell_type": "code",
   "execution_count": 90,
   "outputs": [
    {
     "data": {
      "text/plain": "<Figure size 432x432 with 1 Axes>",
      "image/png": "[encoded data removed]"
     },
     "metadata": {},
     "output_type": "display_data"
    }
   ],
   "source": [
    "plt.figure(figsize=(6, 6))\n",
    "plt.hist(data[data['profession'] == 'Entertainment']['salary'], bins=15, alpha=0.5, label=['Entertainment'])\n",
    "plt.hist(data[data['profession'] == 'Engineer']['salary'], bins=5, alpha=0.8, label=['Engineer'])\n",
    "\n",
    "plt.xlabel('Salary')\n",
    "plt.ylabel('Count')\n",
    "plt.legend()\n",
    "plt.grid(True)\n",
    "\n",
    "plt.show()"
   ],
   "metadata": {
    "collapsed": false,
    "pycharm": {
     "name": "#%%\n"
    }
   }
  },
  {
   "cell_type": "markdown",
   "metadata": {
    "pycharm": {
     "name": "#%% md\n"
    }
   },
   "source": [
    "* Правда ли, что те, у кого больше трех детей зарабатывают в среднем больше, чем те, у кого меньше или трое детей?"
   ]
  },
  {
   "cell_type": "code",
   "execution_count": 32,
   "metadata": {
    "pycharm": {
     "name": "#%%\n"
    }
   },
   "outputs": [
    {
     "name": "stdout",
     "output_type": "stream",
     "text": [
      "Да, гипотеза верна, зарплата выше у тех, у кого больше трёх детей\n"
     ]
    }
   ],
   "source": [
    "# H0 – зарплата выше у кого больше трёх детей\n",
    "# H1 – зарплата выше у кого меньше или трое детей\n",
    "# Распределение не нормальное, переменные независимые, берём U-критерий Манна-Уитни\n",
    "\n",
    "t_value, p_value = stats.mannwhitneyu(data[data['children'] > 3]['salary'],\n",
    "                                      data[data['children'] <= 3]['salary'], alternative='less')\n",
    "\n",
    "alpha = 0.05\n",
    "if p_value > alpha:\n",
    "    print('Да, гипотеза верна, зарплата выше у тех, у кого больше трёх детей')\n",
    "else:\n",
    "    print('Нет, гипотеза не верна, зарплата выше у тех, у кого трое или меньше детей')"
   ]
  },
  {
   "cell_type": "code",
   "execution_count": 88,
   "outputs": [
    {
     "data": {
      "text/plain": "<Figure size 432x432 with 1 Axes>",
      "image/png": "[encoded data removed]"
     },
     "metadata": {},
     "output_type": "display_data"
    }
   ],
   "source": [
    "plt.figure(figsize=(6, 6))\n",
    "plt.hist(data[data['children'] > 3]['salary'], bins=15, alpha=0.5, label=['>3 kids'])\n",
    "plt.hist(data[data['children'] <= 3]['salary'], bins=15, alpha=0.8, label=['<=3 kids'])\n",
    "\n",
    "plt.xlabel('Salary')\n",
    "plt.ylabel('Count')\n",
    "\n",
    "plt.legend()\n",
    "plt.grid(True)\n",
    "\n",
    "plt.show()"
   ],
   "metadata": {
    "collapsed": false,
    "pycharm": {
     "name": "#%%\n"
    }
   }
  },
  {
   "cell_type": "markdown",
   "metadata": {
    "pycharm": {
     "name": "#%% md\n"
    }
   },
   "source": [
    "* Правда ли, что дома художники (Artist) живут в домах, которые в среднем дороже или дешевле, чем дома адвокатов (Lawyer)?"
   ]
  },
  {
   "cell_type": "code",
   "execution_count": 34,
   "metadata": {
    "pycharm": {
     "name": "#%%\n"
    }
   },
   "outputs": [
    {
     "name": "stdout",
     "output_type": "stream",
     "text": [
      "Нет, гипотеза не верна, средняя стоимость домов художников и адвокатов одинаковая\n"
     ]
    }
   ],
   "source": [
    "# H0 – средняя стоимость домов художников <> стоимости домов адвокатов\n",
    "# H1 – средняя стоимость домов художников = стоимости домов адвокатов\n",
    "# Распределение нормальное, берём t-тест Стьюдента\n",
    "\n",
    "t_value, p_value = stats.ttest_ind(data[data['profession'] == 'Artist']['home_cost'],\n",
    "                                   data[data['profession'] == 'Lawyer']['home_cost'])\n",
    "\n",
    "alpha = 0.05\n",
    "if p_value > alpha:\n",
    "    print('Да, гипотеза верна, средняя стоимость домов художников и адвокатов отличается')\n",
    "else:\n",
    "    print('Нет, гипотеза не верна, средняя стоимость домов художников и адвокатов одинаковая')"
   ]
  },
  {
   "cell_type": "code",
   "execution_count": 93,
   "outputs": [
    {
     "data": {
      "text/plain": "<Figure size 432x432 with 1 Axes>",
      "image/png": "[encoded data removed]"
     },
     "metadata": {},
     "output_type": "display_data"
    }
   ],
   "source": [
    "plt.figure(figsize=(6, 6))\n",
    "plt.hist(data[data['profession'] == 'Lawyer']['home_cost'], bins=12, alpha=0.5, label=['Lawyer'])\n",
    "plt.hist(data[data['profession'] == 'Artist']['home_cost'], bins=12, alpha=0.7, label=['Artist'])\n",
    "\n",
    "plt.xlabel('Home cost')\n",
    "plt.ylabel('Count')\n",
    "plt.legend()\n",
    "plt.grid(True)\n",
    "\n",
    "plt.show()"
   ],
   "metadata": {
    "collapsed": false,
    "pycharm": {
     "name": "#%%\n"
    }
   }
  },
  {
   "cell_type": "markdown",
   "metadata": {
    "pycharm": {
     "name": "#%% md\n"
    }
   },
   "source": [
    "* Правда ли, что недвижимость у тех, кто когда либо был в браке в среднем дороже, чем у тех, кто никогда не был в браке?\n"
   ]
  },
  {
   "cell_type": "code",
   "execution_count": 84,
   "metadata": {
    "pycharm": {
     "name": "#%%\n"
    }
   },
   "outputs": [
    {
     "name": "stdout",
     "output_type": "stream",
     "text": [
      "Да, гипотеза верна, недвижимость дороже у тех, кто когда-либо был в браке\n"
     ]
    }
   ],
   "source": [
    "# H0 – недвижимость дороже у тех, кто когда-либо был в браке\n",
    "# H1 – недвижимость дороже у тех, кто никогда не был в браке\n",
    "# Распределение нормальное, берём t-тест Стьюдента\n",
    "\n",
    "t_value, p_value = stats.ttest_ind(data[data['was_married'] == 0]['home_cost'],\n",
    "                                   data[data['was_married'] == 1]['home_cost'], alternative='less')\n",
    "\n",
    "alpha = 0.05\n",
    "if p_value > alpha:\n",
    "    print('Да, гипотеза верна, недвижимость дороже у тех, кто когда-либо был в браке')\n",
    "else:\n",
    "    print('Нет, гипотеза не верна, недвижимость дороже у тех, кто никогда не был в браке')\n"
   ]
  },
  {
   "cell_type": "code",
   "execution_count": 86,
   "outputs": [
    {
     "data": {
      "text/plain": "<Figure size 432x432 with 1 Axes>",
      "image/png": "[encoded data removed]"
     },
     "metadata": {},
     "output_type": "display_data"
    }
   ],
   "source": [
    "plt.figure(figsize=(6, 6))\n",
    "plt.hist(data[data['was_married'] == 1]['home_cost'], bins=15, alpha=0.5, label=['Was never married'])\n",
    "plt.hist(data[data['was_married'] == 0]['home_cost'], bins=15, alpha=0.8, label=['Was married'])\n",
    "\n",
    "plt.xlabel('Home cost')\n",
    "plt.ylabel('Count')\n",
    "\n",
    "plt.legend()\n",
    "plt.grid(True)\n",
    "\n",
    "plt.show()"
   ],
   "metadata": {
    "collapsed": false,
    "pycharm": {
     "name": "#%%\n"
    }
   }
  },
  {
   "cell_type": "markdown",
   "metadata": {
    "pycharm": {
     "name": "#%% md\n"
    }
   },
   "source": [
    "* Правда ли, что мужчины в среднем чаще бывают в браке, чем женщины?\n",
    "\n",
    "**Подсказка** - Составьте матрицу смежности и воспользуйтесь критерием хи-квадрат из библиотеки scipy"
   ]
  },
  {
   "cell_type": "code",
   "execution_count": 115,
   "metadata": {
    "pycharm": {
     "name": "#%%\n"
    }
   },
   "outputs": [
    {
     "data": {
      "text/plain": "     was_married  was_not_married\nsex                              \n0.0        778.0              778\n1.0       1941.0             1941",
      "text/html": "<div>\n<style scoped>\n    .dataframe tbody tr th:only-of-type {\n        vertical-align: middle;\n    }\n\n    .dataframe tbody tr th {\n        vertical-align: top;\n    }\n\n    .dataframe thead th {\n        text-align: right;\n    }\n</style>\n<table border=\"1\" class=\"dataframe\">\n  <thead>\n    <tr style=\"text-align: right;\">\n      <th></th>\n      <th>was_married</th>\n      <th>was_not_married</th>\n    </tr>\n    <tr>\n      <th>sex</th>\n      <th></th>\n      <th></th>\n    </tr>\n  </thead>\n  <tbody>\n    <tr>\n      <th>0.0</th>\n      <td>778.0</td>\n      <td>778</td>\n    </tr>\n    <tr>\n      <th>1.0</th>\n      <td>1941.0</td>\n      <td>1941</td>\n    </tr>\n  </tbody>\n</table>\n</div>"
     },
     "execution_count": 115,
     "metadata": {},
     "output_type": "execute_result"
    }
   ],
   "source": [
    "# H0 – мужчины бывают в браке чаще женщин\n",
    "# H1 – женщины бывают в браке чаще мужчин\n",
    "\n",
    "data['was_not_married'] = np.where(data['was_married'] == 0, 0, 1)\n",
    "marriage = data.groupby('sex', as_index=True).agg({'was_married': 'sum', 'was_not_married': 'sum'})\n",
    "t_value, p_value, _, _ = chi2_contingency(marriage)\n",
    "\n",
    "marriage"
   ]
  },
  {
   "cell_type": "code",
   "execution_count": 116,
   "outputs": [
    {
     "name": "stdout",
     "output_type": "stream",
     "text": [
      "Да, гипотеза верна, мужчины бывают в браке чаще женщин\n"
     ]
    }
   ],
   "source": [
    "alpha = 0.05\n",
    "if p_value > alpha:\n",
    "    print('Да, гипотеза верна, мужчины бывают в браке чаще женщин')\n",
    "else:\n",
    "    print('Нет, гипотеза не верна, женщины бывают в браке чаще мужчин')"
   ],
   "metadata": {
    "collapsed": false,
    "pycharm": {
     "name": "#%%\n"
    }
   }
  },
  {
   "cell_type": "markdown",
   "metadata": {
    "pycharm": {
     "name": "#%% md\n"
    }
   },
   "source": [
    "Правда ли, что женщины с зарплатой выше медианной в среднем более счастливые, чем мужчины с зарплатой, которая выше средней?"
   ]
  },
  {
   "cell_type": "code",
   "execution_count": 95,
   "outputs": [],
   "source": [
    "women_median = data[data['sex'] == 0]['salary'].median()\n",
    "men_mean = data[data['sex'] == 1]['salary'].mean()"
   ],
   "metadata": {
    "collapsed": false,
    "pycharm": {
     "name": "#%%\n"
    }
   }
  },
  {
   "cell_type": "code",
   "execution_count": 112,
   "outputs": [
    {
     "name": "stdout",
     "output_type": "stream",
     "text": [
      "Нет, гипотеза не верна, женщины с зарплатой выше медианной в среднем менее счастливые, чем мужчины с зарплатой выше средней\n"
     ]
    }
   ],
   "source": [
    "# H0 – женщины с зарплатой выше медианной в среднем более счастливее, чем мужчины с зарплатой выше средней\n",
    "# H1 – женщины с зарплатой выше медианной в среднем менее счастливые, чем мужчины с зарплатой выше средней\n",
    "# Распределение не нормальное, переменные независимые, берём U-критерий Манна-Уитни\n",
    "\n",
    "t_value, p_value = stats.mannwhitneyu(data[(data['salary'] > women_median) & (data['sex'] == 0)]['happyness'],\n",
    "                                      data[(data['salary'] > men_mean) & (data['sex'] == 1)]['happyness'],\n",
    "                                      alternative='less')\n",
    "alpha = 0.05\n",
    "if p_value > alpha:\n",
    "    print('Да, гипотеза верна, женщины с зарплатой выше медианной в среднем более счастливее, чем мужчины с зарплатой выше средней')\n",
    "else:\n",
    "    print('Нет, гипотеза не верна, женщины с зарплатой выше медианной в среднем менее счастливые, чем мужчины с зарплатой выше средней')"
   ],
   "metadata": {
    "collapsed": false,
    "pycharm": {
     "name": "#%%\n"
    }
   }
  }
 ],
 "metadata": {
  "kernelspec": {
   "display_name": "Python 3",
   "language": "python",
   "name": "python3"
  },
  "language_info": {
   "codemirror_mode": {
    "name": "ipython",
    "version": 3
   },
   "file_extension": ".py",
   "mimetype": "text/x-python",
   "name": "python",
   "nbconvert_exporter": "python",
   "pygments_lexer": "ipython3",
   "version": "3.8.5"
  },
  "toc": {
   "base_numbering": 1,
   "nav_menu": {},
   "number_sections": true,
   "sideBar": true,
   "skip_h1_title": false,
   "title_cell": "Table of Contents",
   "title_sidebar": "Contents",
   "toc_cell": false,
   "toc_position": {},
   "toc_section_display": true,
   "toc_window_display": false
  }
 },
 "nbformat": 4,
 "nbformat_minor": 4
}